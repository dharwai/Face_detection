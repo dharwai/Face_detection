{
 "cells": [
  {
   "cell_type": "code",
   "execution_count": null,
   "id": "80c2428f",
   "metadata": {},
   "outputs": [],
   "source": [
    "#clinet\n",
    "import socket,cv2, pickle,struct\n",
    "# create socket\n",
    "client_socket = socket.socket(socket.AF_INET,socket.SOCK_STREAM)\n",
    "host_ip = '172.22.15.1'\n",
    "port = 9999\n",
    "socket_address = (host_ip,port)\n",
    "# Socket Connect\n",
    "client_socket.connect(socket_address)\n",
    "data = b\"\"\n",
    "payload_size = struct.calcsize(\"Q\")\n",
    "while True:\n",
    "    while len(data) < payload_size:\n",
    "        packet = client_socket.recv(4*1024) # 4K\n",
    "        if not packet: break\n",
    "        data+=packet\n",
    "    packed_msg_size = data[:payload_size]\n",
    "    data = data[payload_size:]\n",
    "    msg_size = struct.unpack(\"Q\",packed_msg_size)[0]\n",
    "    while len(data) < msg_size:\n",
    "        data += client_socket.recv(4*1024)\n",
    "    frame_data = data[:msg_size]\n",
    "    data  = data[msg_size:]\n",
    "    frame = pickle.loads(frame_data)\n",
    "    cv2.imshow(\"RECEIVING VIDEO\",frame)\n",
    "    key = cv2.waitKey(1) & 0xFF\n",
    "    if key  == ord('q'):\n",
    "        break\n",
    "client_socket.close()\n"
   ]
  }
 ],
 "metadata": {
  "kernelspec": {
   "display_name": "Python 3 (ipykernel)",
   "language": "python",
   "name": "python3"
  }
 },
 "nbformat": 4,
 "nbformat_minor": 5
}
